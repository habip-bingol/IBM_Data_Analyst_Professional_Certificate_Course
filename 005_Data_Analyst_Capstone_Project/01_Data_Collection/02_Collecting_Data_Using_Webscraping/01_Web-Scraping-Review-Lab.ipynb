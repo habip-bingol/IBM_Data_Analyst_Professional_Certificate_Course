{
 "cells": [
  {
   "cell_type": "markdown",
   "metadata": {},
   "source": [
    "<p style=\"text-align:center\">\n",
    "    <a href=\"https://skills.network/?utm_medium=Exinfluencer&utm_source=Exinfluencer&utm_content=000026UJ&utm_term=10006555&utm_id=NA-SkillsNetwork-Channel-SkillsNetworkCoursesIBMDA0321ENSkillsNetwork928-2022-01-01\" target=\"_blank\">\n",
    "    <img src=\"https://cf-courses-data.s3.us.cloud-object-storage.appdomain.cloud/assets/logos/SN_web_lightmode.png\" width=\"200\" alt=\"Skills Network Logo\"  />\n",
    "    </a>\n",
    "</p>\n"
   ]
  },
  {
   "cell_type": "markdown",
   "metadata": {},
   "source": [
    "# **Web Scraping Lab**\n"
   ]
  },
  {
   "cell_type": "markdown",
   "metadata": {},
   "source": [
    "Estimated time needed: **30** minutes\n"
   ]
  },
  {
   "cell_type": "markdown",
   "metadata": {},
   "source": [
    "## Objectives\n"
   ]
  },
  {
   "cell_type": "markdown",
   "metadata": {},
   "source": [
    "After completing this lab you will be able to:\n"
   ]
  },
  {
   "cell_type": "markdown",
   "metadata": {},
   "source": [
    "* Download a webpage using requests module\n",
    "* Scrape all links from a web page\n",
    "* Scrape all image urls from a web page\n",
    "* Scrape data from html tables\n"
   ]
  },
  {
   "cell_type": "markdown",
   "metadata": {},
   "source": [
    "## Scrape www.ibm.com\n"
   ]
  },
  {
   "cell_type": "markdown",
   "metadata": {},
   "source": [
    "Import the required modules and functions\n"
   ]
  },
  {
   "cell_type": "code",
   "execution_count": 1,
   "metadata": {
    "ExecuteTime": {
     "end_time": "2023-04-07T07:38:13.571023Z",
     "start_time": "2023-04-07T07:38:13.331253Z"
    }
   },
   "outputs": [],
   "source": [
    "from bs4 import BeautifulSoup # this module helps in web scrapping.\n",
    "import requests  # this module helps us to download a web page"
   ]
  },
  {
   "cell_type": "markdown",
   "metadata": {},
   "source": [
    "Download the contents of the web page\n"
   ]
  },
  {
   "cell_type": "code",
   "execution_count": 2,
   "metadata": {
    "ExecuteTime": {
     "end_time": "2023-04-07T07:38:16.462135Z",
     "start_time": "2023-04-07T07:38:16.450619Z"
    }
   },
   "outputs": [],
   "source": [
    "url = \"http://www.ibm.com\""
   ]
  },
  {
   "cell_type": "code",
   "execution_count": 3,
   "metadata": {
    "ExecuteTime": {
     "end_time": "2023-04-07T07:38:27.027315Z",
     "start_time": "2023-04-07T07:38:25.332174Z"
    }
   },
   "outputs": [],
   "source": [
    "# get the contents of the webpage in text format and store in a variable called data\n",
    "data  = requests.get(url).text "
   ]
  },
  {
   "cell_type": "markdown",
   "metadata": {},
   "source": [
    "Create a soup object using the class BeautifulSoup\n"
   ]
  },
  {
   "cell_type": "code",
   "execution_count": 5,
   "metadata": {
    "ExecuteTime": {
     "end_time": "2023-04-07T07:39:18.831020Z",
     "start_time": "2023-04-07T07:39:18.796022Z"
    }
   },
   "outputs": [],
   "source": [
    "soup = BeautifulSoup(data,\"xml\")  # create a soup object using the variable 'data'"
   ]
  },
  {
   "cell_type": "markdown",
   "metadata": {},
   "source": [
    "Scrape all links\n"
   ]
  },
  {
   "cell_type": "code",
   "execution_count": 7,
   "metadata": {
    "ExecuteTime": {
     "end_time": "2023-04-07T07:40:00.407928Z",
     "start_time": "2023-04-07T07:40:00.395615Z"
    }
   },
   "outputs": [
    {
     "name": "stdout",
     "output_type": "stream",
     "text": [
      "#\n",
      "#\n",
      "#\n",
      "#\n",
      "#\n",
      "https://www.ibm.com/reports/threat-intelligence\n",
      "https://www.ibm.com/resources/consulting/experience-transformation\n",
      "https://www.ibm.com/resources/consulting/operational-efficiency\n",
      "https://www.ibm.com/resources/consulting/hybrid-cloud-services\n",
      "https://www.ibm.com/consulting\n",
      "None\n",
      "#\n",
      "#\n",
      "#\n",
      "#\n",
      "#\n",
      "None\n",
      "None\n",
      "https://www.ibm.com/employment/?lnk=flatitem\n",
      "https://www.ibm.com/impact\n",
      "https://research.ibm.com/\n",
      "None\n",
      "https://www.ibm.com/consulting/?lnk=flathl\n",
      "https://www.ibm.com/consulting/strategy/?lnk=flathl\n",
      "https://www.ibm.com/consulting/ibmix?lnk=flathl\n",
      "https://www.ibm.com/consulting/technology/\n",
      "https://www.ibm.com/consulting/operations/?lnk=flathl\n",
      "https://www.ibm.com/strategic-partnerships\n",
      "http://ibm.com/consulting/ibmix\n",
      "https://www.ibm.com/consulting\n",
      "https://www.ibm.com/sports/masters\n",
      "https://www.ibm.com/products/envizi\n",
      "https://www.ibm.com/products/maximo\n",
      "https://www.ibm.com/sustainability\n",
      "https://www.ibm.com/cloud/campaign/cloud-simplicity\n",
      "https://www.ibm.com/cloud/campaign/cloud-simplicity\n",
      "https://www.ibm.com/products/instana\n",
      "https://www.ibm.com/products/turbonomic\n",
      "https://www.ibm.com/automation\n",
      "https://www.ibm.com/cloud/watson-knowledge-catalog\n",
      "https://www.ibm.com/data-management\n",
      "https://www.ibm.com/data-fabric\n",
      "https://www.ibm.com/\n"
     ]
    }
   ],
   "source": [
    "for link in soup.find_all('a'):  # in html anchor/link is represented by the tag <a>\n",
    "    print(link.get('href'))"
   ]
  },
  {
   "cell_type": "markdown",
   "metadata": {},
   "source": [
    "Scrape  all images\n"
   ]
  },
  {
   "cell_type": "code",
   "execution_count": 8,
   "metadata": {
    "ExecuteTime": {
     "end_time": "2023-04-07T07:40:11.572135Z",
     "start_time": "2023-04-07T07:40:11.562694Z"
    }
   },
   "outputs": [
    {
     "name": "stdout",
     "output_type": "stream",
     "text": [
      "https://1.dam.s81c.com/p/0b52088cc24c2f37/CS_the_transform_masters_question_30_prores_frame00.png.global.mr_5x4.jpg\n",
      "https://1.dam.s81c.com/p/0b52088cc24c2f37/CS_the_transform_masters_question_30_prores_frame00.png.global.mr_5x4.jpg\n",
      "https://1.dam.s81c.com/p/0b526ddf40c4140c/CS_The_Sustainability_Building_Question_30_ProRes-frame-07-00.png.global.sr_5x4.png\n",
      "https://1.dam.s81c.com/p/0b52088cc24c2f41/CS_The_Modernize_Banking_Question_V1_30_ProRes_frame-00-06.png.global.sr_5x4.png\n",
      "https://1.dam.s81c.com/p/0b52088cc24c2f3d/CS-The-Automate-Beer-Question-30_ProRes_frame-13-22.png.global.sr_5x4.png\n",
      "https://1.dam.s81c.com/p/0b52088cc24c2f35/CS_The_Modernize_Banking_Question_V1_30_ProRes-frame-04-30.png.global.sr_5x4.png\n",
      "https://1.dam.s81c.com/p/0aac9cf57bcbf324/dotcom-1-overview.jpg.global.sr_16x9.jpg\n",
      "https://1.dam.s81c.com/p/0aac9cf57c4bf381/0935e0d55846b9ec_dotcom-2-strategy.jpg.global.m_16x9.jpg\n",
      "https://1.dam.s81c.com/p/0aac9cf57c4bf382/0656655b47a3af8b_dotcom-3-experience.jpg.global.sr_16x9.jpg\n",
      "https://1.dam.s81c.com/p/0aac9cf57c4bf383/08f9513598a70746_dotcom-4-technology.jpg.global.sr_16x9.jpg\n",
      "https://1.dam.s81c.com/p/0aac9cf57c4bf380/0935e0d55846b9e4_dotcom-5-operations.jpg.global.sr_16x9.jpg\n",
      "https://1.dam.s81c.com/p/0aac9cf57c4bf384/064e0139f5a3aa3f_dotcom-6-partners.jpg.global.sr_16x9.jpg\n"
     ]
    }
   ],
   "source": [
    "for link in soup.find_all('img'):# in html image is represented by the tag <img>\n",
    "    print(link.get('src'))"
   ]
  },
  {
   "cell_type": "markdown",
   "metadata": {},
   "source": [
    "## Scrape data from html tables\n"
   ]
  },
  {
   "cell_type": "code",
   "execution_count": 9,
   "metadata": {
    "ExecuteTime": {
     "end_time": "2023-04-07T07:47:37.881366Z",
     "start_time": "2023-04-07T07:47:37.869366Z"
    }
   },
   "outputs": [],
   "source": [
    "#The below url contains a html table with data about colors and color codes."
   ]
  },
  {
   "cell_type": "code",
   "execution_count": 20,
   "metadata": {
    "ExecuteTime": {
     "end_time": "2023-04-07T07:50:09.449392Z",
     "start_time": "2023-04-07T07:50:09.435395Z"
    }
   },
   "outputs": [],
   "source": [
    "url = \"https://cf-courses-data.s3.us.cloud-object-storage.appdomain.cloud/IBM-DA0321EN-SkillsNetwork/labs/datasets/HTMLColorCodes.html\""
   ]
  },
  {
   "cell_type": "markdown",
   "metadata": {},
   "source": [
    "Before proceeding to scrape a web site, you need to examine the contents, and the way data is organized on the website. Open the above url in your browser and check how many rows and columns are there in the color table.\n"
   ]
  },
  {
   "cell_type": "code",
   "execution_count": 21,
   "metadata": {
    "ExecuteTime": {
     "end_time": "2023-04-07T07:50:11.350383Z",
     "start_time": "2023-04-07T07:50:10.308350Z"
    }
   },
   "outputs": [],
   "source": [
    "# get the contents of the webpage in text format and store in a variable called data\n",
    "data  = requests.get(url).text"
   ]
  },
  {
   "cell_type": "code",
   "execution_count": 22,
   "metadata": {
    "ExecuteTime": {
     "end_time": "2023-04-07T07:50:12.902310Z",
     "start_time": "2023-04-07T07:50:12.884190Z"
    }
   },
   "outputs": [],
   "source": [
    "soup = BeautifulSoup(data,\"xml\")"
   ]
  },
  {
   "cell_type": "code",
   "execution_count": 23,
   "metadata": {
    "ExecuteTime": {
     "end_time": "2023-04-07T07:50:13.821773Z",
     "start_time": "2023-04-07T07:50:13.811681Z"
    }
   },
   "outputs": [],
   "source": [
    "#find a html table in the web page\n",
    "table = soup.find('table') # in html table is represented by the tag <table>"
   ]
  },
  {
   "cell_type": "code",
   "execution_count": 24,
   "metadata": {
    "ExecuteTime": {
     "end_time": "2023-04-07T07:50:15.091774Z",
     "start_time": "2023-04-07T07:50:15.083311Z"
    }
   },
   "outputs": [
    {
     "name": "stdout",
     "output_type": "stream",
     "text": [
      "Color Name--->Hex Code#RRGGBB\n",
      "Decimal Code(R,G,B)\n",
      "\n",
      "\n",
      "1\n",
      "\n",
      "lightsalmon\n",
      "#FFA07A\n",
      "rgb(255,160,122)\n",
      "\n",
      "\n",
      "2\n",
      "\n",
      "salmon\n",
      "#FA8072\n",
      "rgb(250,128,114)\n",
      "\n",
      "\n",
      "3\n",
      "\n",
      "darksalmon\n",
      "#E9967A\n",
      "rgb(233,150,122)\n",
      "\n",
      "\n",
      "4\n",
      "\n",
      "lightcoral\n",
      "#F08080\n",
      "rgb(240,128,128)\n",
      "\n",
      "\n",
      "5\n",
      "\n",
      "coral\n",
      "#FF7F50\n",
      "rgb(255,127,80)\n",
      "\n",
      "\n",
      "6\n",
      "\n",
      "tomato\n",
      "#FF6347\n",
      "rgb(255,99,71)\n",
      "\n",
      "\n",
      "7\n",
      "\n",
      "orangered\n",
      "#FF4500\n",
      "rgb(255,69,0)\n",
      "\n",
      "\n",
      "8\n",
      "\n",
      "gold\n",
      "#FFD700\n",
      "rgb(255,215,0)\n",
      "\n",
      "\n",
      "9\n",
      "\n",
      "orange\n",
      "#FFA500\n",
      "rgb(255,165,0)\n",
      "\n",
      "\n",
      "10\n",
      "\n",
      "darkorange\n",
      "#FF8C00\n",
      "rgb(255,140,0)\n",
      "\n",
      "\n",
      "11\n",
      "\n",
      "lightyellow\n",
      "#FFFFE0\n",
      "rgb(255,255,224)\n",
      "\n",
      "\n",
      "12\n",
      "\n",
      "lemonchiffon\n",
      "#FFFACD\n",
      "rgb(255,250,205)\n",
      "\n",
      "\n",
      "13\n",
      "\n",
      "papayawhip\n",
      "#FFEFD5\n",
      "rgb(255,239,213)\n",
      "\n",
      "\n",
      "14\n",
      "\n",
      "moccasin\n",
      "#FFE4B5\n",
      "rgb(255,228,181)\n",
      "\n",
      "\n",
      "15\n",
      "\n",
      "peachpuff\n",
      "#FFDAB9\n",
      "rgb(255,218,185)\n",
      "\n",
      "\n",
      "16\n",
      "\n",
      "palegoldenrod\n",
      "#EEE8AA\n",
      "rgb(238,232,170)\n",
      "\n",
      "\n",
      "17\n",
      "\n",
      "khaki\n",
      "#F0E68C\n",
      "rgb(240,230,140)\n",
      "\n",
      "\n",
      "18\n",
      "\n",
      "darkkhaki\n",
      "#BDB76B\n",
      "rgb(189,183,107)\n",
      "\n",
      "\n",
      "19\n",
      "\n",
      "yellow\n",
      "#FFFF00\n",
      "rgb(255,255,0)\n",
      "\n",
      "\n",
      "20\n",
      "\n",
      "lawngreen\n",
      "#7CFC00\n",
      "rgb(124,252,0)\n",
      "\n",
      "\n",
      "21\n",
      "\n",
      "chartreuse\n",
      "#7FFF00\n",
      "rgb(127,255,0)\n",
      "\n",
      "\n",
      "22\n",
      "\n",
      "limegreen\n",
      "#32CD32\n",
      "rgb(50,205,50)\n",
      "\n",
      "\n",
      "23\n",
      "\n",
      "lime\n",
      "#00FF00\n",
      "rgb(0.255.0)\n",
      "\n",
      "\n",
      "24\n",
      "\n",
      "forestgreen\n",
      "#228B22\n",
      "rgb(34,139,34)\n",
      "\n",
      "\n",
      "25\n",
      "\n",
      "green\n",
      "#008000\n",
      "rgb(0,128,0)\n",
      "\n",
      "\n",
      "26\n",
      "\n",
      "powderblue\n",
      "#B0E0E6\n",
      "rgb(176,224,230)\n",
      "\n",
      "\n",
      "27\n",
      "\n",
      "lightblue\n",
      "#ADD8E6\n",
      "rgb(173,216,230)\n",
      "\n",
      "\n",
      "28\n",
      "\n",
      "lightskyblue\n",
      "#87CEFA\n",
      "rgb(135,206,250)\n",
      "\n",
      "\n",
      "29\n",
      "\n",
      "skyblue\n",
      "#87CEEB\n",
      "rgb(135,206,235)\n",
      "\n",
      "\n",
      "30\n",
      "\n",
      "deepskyblue\n",
      "#00BFFF\n",
      "rgb(0,191,255)\n",
      "\n",
      "\n",
      "31\n",
      "\n",
      "lightsteelblue\n",
      "#B0C4DE\n",
      "rgb(176,196,222)\n",
      "\n",
      "\n",
      "32\n",
      "\n",
      "dodgerblue\n",
      "#1E90FF\n",
      "rgb(30,144,255)\n",
      "\n",
      "\n",
      "lightsalmon--->#FFA07A\n",
      "salmon--->#FA8072\n",
      "darksalmon--->#E9967A\n",
      "lightcoral--->#F08080\n",
      "coral--->#FF7F50\n",
      "tomato--->#FF6347\n",
      "orangered--->#FF4500\n",
      "gold--->#FFD700\n",
      "orange--->#FFA500\n",
      "darkorange--->#FF8C00\n",
      "lightyellow--->#FFFFE0\n",
      "lemonchiffon--->#FFFACD\n",
      "papayawhip--->#FFEFD5\n",
      "moccasin--->#FFE4B5\n",
      "peachpuff--->#FFDAB9\n",
      "palegoldenrod--->#EEE8AA\n",
      "khaki--->#F0E68C\n",
      "darkkhaki--->#BDB76B\n",
      "yellow--->#FFFF00\n",
      "lawngreen--->#7CFC00\n",
      "chartreuse--->#7FFF00\n",
      "limegreen--->#32CD32\n",
      "lime--->#00FF00\n",
      "forestgreen--->#228B22\n",
      "green--->#008000\n",
      "powderblue--->#B0E0E6\n",
      "lightblue--->#ADD8E6\n",
      "lightskyblue--->#87CEFA\n",
      "skyblue--->#87CEEB\n",
      "deepskyblue--->#00BFFF\n",
      "lightsteelblue--->#B0C4DE\n",
      "dodgerblue--->#1E90FF\n"
     ]
    }
   ],
   "source": [
    "#Get all rows from the table\n",
    "for row in table.find_all('tr'): # in html table row is represented by the tag <tr>\n",
    "    # Get all columns in each row.\n",
    "    cols = row.find_all('td') # in html a column is represented by the tag <td>\n",
    "    color_name = cols[2].getText() # store the value in column 3 as color_name\n",
    "    color_code = cols[3].getText() # store the value in column 4 as color_code\n",
    "    print(\"{}--->{}\".format(color_name,color_code))"
   ]
  },
  {
   "cell_type": "code",
   "execution_count": null,
   "metadata": {},
   "outputs": [],
   "source": []
  },
  {
   "cell_type": "code",
   "execution_count": null,
   "metadata": {},
   "outputs": [],
   "source": []
  },
  {
   "cell_type": "markdown",
   "metadata": {},
   "source": [
    "## Authors\n"
   ]
  },
  {
   "cell_type": "markdown",
   "metadata": {},
   "source": [
    "Ramesh Sannareddy\n"
   ]
  },
  {
   "cell_type": "markdown",
   "metadata": {},
   "source": [
    "### Other Contributors\n"
   ]
  },
  {
   "cell_type": "markdown",
   "metadata": {},
   "source": [
    "Rav Ahuja\n"
   ]
  },
  {
   "cell_type": "markdown",
   "metadata": {},
   "source": [
    "## Change Log\n"
   ]
  },
  {
   "cell_type": "markdown",
   "metadata": {},
   "source": [
    "|  Date (YYYY-MM-DD) |  Version | Changed By  |  Change Description |\n",
    "|---|---|---|---|\n",
    "| 2020-10-17  | 0.1  | Ramesh Sannareddy  |  Created initial version of the lab |\n"
   ]
  },
  {
   "cell_type": "markdown",
   "metadata": {},
   "source": [
    " Copyright &copy; 2020 IBM Corporation. This notebook and its source code are released under the terms of the [MIT License](https://cognitiveclass.ai/mit-license/?utm_medium=Exinfluencer&utm_source=Exinfluencer&utm_content=000026UJ&utm_term=10006555&utm_id=NA-SkillsNetwork-Channel-SkillsNetworkCoursesIBMDA0321ENSkillsNetwork928-2022-01-01).\n"
   ]
  }
 ],
 "metadata": {
  "hide_input": false,
  "kernelspec": {
   "display_name": "Python 3 (ipykernel)",
   "language": "python",
   "name": "python3"
  },
  "language_info": {
   "codemirror_mode": {
    "name": "ipython",
    "version": 3
   },
   "file_extension": ".py",
   "mimetype": "text/x-python",
   "name": "python",
   "nbconvert_exporter": "python",
   "pygments_lexer": "ipython3",
   "version": "3.9.12"
  },
  "toc": {
   "base_numbering": 1,
   "nav_menu": {},
   "number_sections": true,
   "sideBar": true,
   "skip_h1_title": false,
   "title_cell": "Table of Contents",
   "title_sidebar": "Contents",
   "toc_cell": false,
   "toc_position": {},
   "toc_section_display": true,
   "toc_window_display": false
  }
 },
 "nbformat": 4,
 "nbformat_minor": 4
}
